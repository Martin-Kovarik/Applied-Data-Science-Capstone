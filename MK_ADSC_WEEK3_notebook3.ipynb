{
 "cells": [
  {
   "cell_type": "markdown",
   "metadata": {},
   "source": [
    "# Capstone project"
   ]
  },
  {
   "cell_type": "markdown",
   "metadata": {},
   "source": [
    "## Coursera | Applied Data Science Capstone\n",
    "### by Martin Kovarik"
   ]
  },
  {
   "cell_type": "markdown",
   "metadata": {},
   "source": [
    "### Assignment Week3 Notebook3\n",
    "Goal: **Explore and cluster the neighborhoods in Toronto.**"
   ]
  },
  {
   "cell_type": "code",
   "execution_count": 17,
   "metadata": {},
   "outputs": [],
   "source": [
    "# LIBS\n",
    "import pandas as pd\n",
    "import geocoder\n",
    "import folium"
   ]
  },
  {
   "cell_type": "code",
   "execution_count": 10,
   "metadata": {},
   "outputs": [],
   "source": [
    "#Display settings\n",
    "pd.set_option('display.max_columns', None)\n",
    "pd.set_option('display.max_rows', None)"
   ]
  },
  {
   "cell_type": "code",
   "execution_count": 11,
   "metadata": {},
   "outputs": [
    {
     "data": {
      "text/html": [
       "<div>\n",
       "<style scoped>\n",
       "    .dataframe tbody tr th:only-of-type {\n",
       "        vertical-align: middle;\n",
       "    }\n",
       "\n",
       "    .dataframe tbody tr th {\n",
       "        vertical-align: top;\n",
       "    }\n",
       "\n",
       "    .dataframe thead th {\n",
       "        text-align: right;\n",
       "    }\n",
       "</style>\n",
       "<table border=\"1\" class=\"dataframe\">\n",
       "  <thead>\n",
       "    <tr style=\"text-align: right;\">\n",
       "      <th></th>\n",
       "      <th>PostalCode</th>\n",
       "      <th>Borough</th>\n",
       "      <th>Neighborhood</th>\n",
       "      <th>Latitude</th>\n",
       "      <th>Longitude</th>\n",
       "    </tr>\n",
       "  </thead>\n",
       "  <tbody>\n",
       "    <tr>\n",
       "      <th>0</th>\n",
       "      <td>M1B</td>\n",
       "      <td>Scarborough</td>\n",
       "      <td>Malvern, Rouge</td>\n",
       "      <td>43.806686</td>\n",
       "      <td>-79.194353</td>\n",
       "    </tr>\n",
       "    <tr>\n",
       "      <th>1</th>\n",
       "      <td>M1C</td>\n",
       "      <td>Scarborough</td>\n",
       "      <td>Rouge Hill, Port Union, Highland Creek</td>\n",
       "      <td>43.784535</td>\n",
       "      <td>-79.160497</td>\n",
       "    </tr>\n",
       "    <tr>\n",
       "      <th>2</th>\n",
       "      <td>M1E</td>\n",
       "      <td>Scarborough</td>\n",
       "      <td>Guildwood, Morningside, West Hill</td>\n",
       "      <td>43.763573</td>\n",
       "      <td>-79.188711</td>\n",
       "    </tr>\n",
       "    <tr>\n",
       "      <th>3</th>\n",
       "      <td>M1G</td>\n",
       "      <td>Scarborough</td>\n",
       "      <td>Woburn</td>\n",
       "      <td>43.770992</td>\n",
       "      <td>-79.216917</td>\n",
       "    </tr>\n",
       "    <tr>\n",
       "      <th>4</th>\n",
       "      <td>M1H</td>\n",
       "      <td>Scarborough</td>\n",
       "      <td>Cedarbrae</td>\n",
       "      <td>43.773136</td>\n",
       "      <td>-79.239476</td>\n",
       "    </tr>\n",
       "  </tbody>\n",
       "</table>\n",
       "</div>"
      ],
      "text/plain": [
       "  PostalCode      Borough                            Neighborhood   Latitude  \\\n",
       "0        M1B  Scarborough                          Malvern, Rouge  43.806686   \n",
       "1        M1C  Scarborough  Rouge Hill, Port Union, Highland Creek  43.784535   \n",
       "2        M1E  Scarborough       Guildwood, Morningside, West Hill  43.763573   \n",
       "3        M1G  Scarborough                                  Woburn  43.770992   \n",
       "4        M1H  Scarborough                               Cedarbrae  43.773136   \n",
       "\n",
       "   Longitude  \n",
       "0 -79.194353  \n",
       "1 -79.160497  \n",
       "2 -79.188711  \n",
       "3 -79.216917  \n",
       "4 -79.239476  "
      ]
     },
     "execution_count": 11,
     "metadata": {},
     "output_type": "execute_result"
    }
   ],
   "source": [
    "#Import the dataset created in Notebbok2\n",
    "toronto_geo = pd.read_csv('toronto_geo.csv')\n",
    "toronto_geo.head()"
   ]
  },
  {
   "cell_type": "markdown",
   "metadata": {},
   "source": [
    "**7. Explore and cluster the neighborhoods in Toronto. You can decide to work with only boroughs that contain the word Toronto and then replicate the same analysis we did to the New York City data.**"
   ]
  },
  {
   "cell_type": "code",
   "execution_count": 12,
   "metadata": {},
   "outputs": [
    {
     "data": {
      "text/html": [
       "<div>\n",
       "<style scoped>\n",
       "    .dataframe tbody tr th:only-of-type {\n",
       "        vertical-align: middle;\n",
       "    }\n",
       "\n",
       "    .dataframe tbody tr th {\n",
       "        vertical-align: top;\n",
       "    }\n",
       "\n",
       "    .dataframe thead th {\n",
       "        text-align: right;\n",
       "    }\n",
       "</style>\n",
       "<table border=\"1\" class=\"dataframe\">\n",
       "  <thead>\n",
       "    <tr style=\"text-align: right;\">\n",
       "      <th></th>\n",
       "      <th>PostalCode</th>\n",
       "      <th>Borough</th>\n",
       "      <th>Neighborhood</th>\n",
       "      <th>Latitude</th>\n",
       "      <th>Longitude</th>\n",
       "    </tr>\n",
       "  </thead>\n",
       "  <tbody>\n",
       "    <tr>\n",
       "      <th>0</th>\n",
       "      <td>M4E</td>\n",
       "      <td>East Toronto</td>\n",
       "      <td>The Beaches</td>\n",
       "      <td>43.676357</td>\n",
       "      <td>-79.293031</td>\n",
       "    </tr>\n",
       "    <tr>\n",
       "      <th>1</th>\n",
       "      <td>M4K</td>\n",
       "      <td>East Toronto</td>\n",
       "      <td>The Danforth West, Riverdale</td>\n",
       "      <td>43.679557</td>\n",
       "      <td>-79.352188</td>\n",
       "    </tr>\n",
       "    <tr>\n",
       "      <th>2</th>\n",
       "      <td>M4L</td>\n",
       "      <td>East Toronto</td>\n",
       "      <td>India Bazaar, The Beaches West</td>\n",
       "      <td>43.668999</td>\n",
       "      <td>-79.315572</td>\n",
       "    </tr>\n",
       "    <tr>\n",
       "      <th>3</th>\n",
       "      <td>M4M</td>\n",
       "      <td>East Toronto</td>\n",
       "      <td>Studio District</td>\n",
       "      <td>43.659526</td>\n",
       "      <td>-79.340923</td>\n",
       "    </tr>\n",
       "    <tr>\n",
       "      <th>4</th>\n",
       "      <td>M4N</td>\n",
       "      <td>Central Toronto</td>\n",
       "      <td>Lawrence Park</td>\n",
       "      <td>43.728020</td>\n",
       "      <td>-79.388790</td>\n",
       "    </tr>\n",
       "  </tbody>\n",
       "</table>\n",
       "</div>"
      ],
      "text/plain": [
       "  PostalCode          Borough                    Neighborhood   Latitude  \\\n",
       "0        M4E     East Toronto                     The Beaches  43.676357   \n",
       "1        M4K     East Toronto    The Danforth West, Riverdale  43.679557   \n",
       "2        M4L     East Toronto  India Bazaar, The Beaches West  43.668999   \n",
       "3        M4M     East Toronto                 Studio District  43.659526   \n",
       "4        M4N  Central Toronto                   Lawrence Park  43.728020   \n",
       "\n",
       "   Longitude  \n",
       "0 -79.293031  \n",
       "1 -79.352188  \n",
       "2 -79.315572  \n",
       "3 -79.340923  \n",
       "4 -79.388790  "
      ]
     },
     "execution_count": 12,
     "metadata": {},
     "output_type": "execute_result"
    }
   ],
   "source": [
    "toronto_geo = toronto_geo[toronto_geo['Borough'].str.contains(\"Toronto\")].reset_index(drop=True)\n",
    "toronto_geo.head()"
   ]
  },
  {
   "cell_type": "markdown",
   "metadata": {},
   "source": [
    "Making sure we got only the \"Toronto\" boroughs"
   ]
  },
  {
   "cell_type": "code",
   "execution_count": 13,
   "metadata": {},
   "outputs": [
    {
     "data": {
      "text/plain": [
       "Downtown Toronto    19\n",
       "Central Toronto      9\n",
       "West Toronto         6\n",
       "East Toronto         5\n",
       "Name: Borough, dtype: int64"
      ]
     },
     "execution_count": 13,
     "metadata": {},
     "output_type": "execute_result"
    }
   ],
   "source": [
    "toronto_geo['Borough'].value_counts()"
   ]
  },
  {
   "cell_type": "markdown",
   "metadata": {},
   "source": [
    "**7a) add enough Markdown cells to explain what you decided to do and to report any observations you make.**"
   ]
  },
  {
   "cell_type": "markdown",
   "metadata": {},
   "source": [
    "Hopefully done."
   ]
  },
  {
   "cell_type": "markdown",
   "metadata": {},
   "source": [
    "**7b) generate maps to visualize your neighborhoods and how they cluster together.**"
   ]
  },
  {
   "cell_type": "markdown",
   "metadata": {},
   "source": [
    "Creating map of Toronto with latitude and longitude values from first row of the dataset"
   ]
  },
  {
   "cell_type": "code",
   "execution_count": 14,
   "metadata": {},
   "outputs": [],
   "source": [
    "map_toronto = folium.Map(location=[toronto_geo[\"Latitude\"][0], toronto_geo[\"Longitude\"][0]], zoom_start=11)"
   ]
  },
  {
   "cell_type": "code",
   "execution_count": 15,
   "metadata": {},
   "outputs": [
    {
     "data": {
      "text/html": [
       "<div style=\"width:100%;\"><div style=\"position:relative;width:100%;height:0;padding-bottom:60%;\"><span style=\"color:#565656\">Make this Notebook Trusted to load map: File -> Trust Notebook</span><iframe src=\"about:blank\" style=\"position:absolute;width:100%;height:100%;left:0;top:0;border:none !important;\" data-html=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 onload=\"this.contentDocument.open();this.contentDocument.write(atob(this.getAttribute('data-html')));this.contentDocument.close();\" allowfullscreen webkitallowfullscreen mozallowfullscreen></iframe></div></div>"
      ],
      "text/plain": [
       "<folium.folium.Map at 0x7f906cc6ec50>"
      ]
     },
     "execution_count": 15,
     "metadata": {},
     "output_type": "execute_result"
    }
   ],
   "source": [
    "map_toronto"
   ]
  },
  {
   "cell_type": "markdown",
   "metadata": {},
   "source": [
    "Now adding markers for particular neighborhoods"
   ]
  },
  {
   "cell_type": "code",
   "execution_count": 16,
   "metadata": {},
   "outputs": [
    {
     "data": {
      "text/html": [
       "<div style=\"width:100%;\"><div style=\"position:relative;width:100%;height:0;padding-bottom:60%;\"><span style=\"color:#565656\">Make this Notebook Trusted to load map: File -> Trust Notebook</span><iframe src=\"about:blank\" style=\"position:absolute;width:100%;height:100%;left:0;top:0;border:none !important;\" data-html=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 onload=\"this.contentDocument.open();this.contentDocument.write(atob(this.getAttribute('data-html')));this.contentDocument.close();\" allowfullscreen webkitallowfullscreen mozallowfullscreen></iframe></div></div>"
      ],
      "text/plain": [
       "<folium.folium.Map at 0x7f906cc6ec50>"
      ]
     },
     "execution_count": 16,
     "metadata": {},
     "output_type": "execute_result"
    }
   ],
   "source": [
    "\n",
    "for lat, lng, borough, neighborhood in zip(toronto_geo['Latitude'], toronto_geo['Longitude'], toronto_geo['Borough'], toronto_geo['Neighborhood']):\n",
    "    label = '{}, {}'.format(neighborhood, borough)\n",
    "    label = folium.Popup(label, parse_html=True)\n",
    "    folium.Circle(\n",
    "        [lat, lng],\n",
    "        radius=4,\n",
    "        popup=label,\n",
    "        color='blue',\n",
    "        fill=True,\n",
    "        parse_html=False).add_to(map_toronto)  \n",
    "    \n",
    "map_toronto"
   ]
  },
  {
   "cell_type": "markdown",
   "metadata": {},
   "source": [
    "**8. Once you are happy with your analysis, submit a link to the new Notebook on your Github repository. (3 marks)**"
   ]
  },
  {
   "cell_type": "markdown",
   "metadata": {},
   "source": [
    "# END"
   ]
  }
 ],
 "metadata": {
  "kernelspec": {
   "display_name": "Python 3",
   "language": "python",
   "name": "python3"
  },
  "language_info": {
   "codemirror_mode": {
    "name": "ipython",
    "version": 3
   },
   "file_extension": ".py",
   "mimetype": "text/x-python",
   "name": "python",
   "nbconvert_exporter": "python",
   "pygments_lexer": "ipython3",
   "version": "3.7.3"
  }
 },
 "nbformat": 4,
 "nbformat_minor": 4
}
