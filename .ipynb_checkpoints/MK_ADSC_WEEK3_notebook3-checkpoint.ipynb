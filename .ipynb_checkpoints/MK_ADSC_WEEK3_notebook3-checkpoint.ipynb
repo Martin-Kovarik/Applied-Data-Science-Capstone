{
 "cells": [
  {
   "cell_type": "markdown",
   "metadata": {},
   "source": [
    "# Capstone project"
   ]
  },
  {
   "cell_type": "markdown",
   "metadata": {},
   "source": [
    "## Coursera | Applied Data Science Capstone\n",
    "### by Martin Kovarik"
   ]
  },
  {
   "cell_type": "markdown",
   "metadata": {},
   "source": [
    "### Assignment Week3 Notebook3\n",
    "Goal: **Explore and cluster the neighborhoods in Toronto.**"
   ]
  },
  {
   "cell_type": "code",
   "execution_count": 18,
   "metadata": {},
   "outputs": [],
   "source": [
    "# LIBS\n",
    "import pandas as pd\n",
    "import folium"
   ]
  },
  {
   "cell_type": "code",
   "execution_count": 19,
   "metadata": {},
   "outputs": [],
   "source": [
    "#Display settings\n",
    "pd.set_option('display.max_columns', None)\n",
    "pd.set_option('display.max_rows', None)"
   ]
  },
  {
   "cell_type": "code",
   "execution_count": 20,
   "metadata": {},
   "outputs": [
    {
     "data": {
      "text/html": [
       "<div>\n",
       "<style scoped>\n",
       "    .dataframe tbody tr th:only-of-type {\n",
       "        vertical-align: middle;\n",
       "    }\n",
       "\n",
       "    .dataframe tbody tr th {\n",
       "        vertical-align: top;\n",
       "    }\n",
       "\n",
       "    .dataframe thead th {\n",
       "        text-align: right;\n",
       "    }\n",
       "</style>\n",
       "<table border=\"1\" class=\"dataframe\">\n",
       "  <thead>\n",
       "    <tr style=\"text-align: right;\">\n",
       "      <th></th>\n",
       "      <th>PostalCode</th>\n",
       "      <th>Borough</th>\n",
       "      <th>Neighborhood</th>\n",
       "      <th>Latitude</th>\n",
       "      <th>Longitude</th>\n",
       "    </tr>\n",
       "  </thead>\n",
       "  <tbody>\n",
       "    <tr>\n",
       "      <th>0</th>\n",
       "      <td>M1B</td>\n",
       "      <td>Scarborough</td>\n",
       "      <td>Malvern, Rouge</td>\n",
       "      <td>43.806686</td>\n",
       "      <td>-79.194353</td>\n",
       "    </tr>\n",
       "    <tr>\n",
       "      <th>1</th>\n",
       "      <td>M1C</td>\n",
       "      <td>Scarborough</td>\n",
       "      <td>Rouge Hill, Port Union, Highland Creek</td>\n",
       "      <td>43.784535</td>\n",
       "      <td>-79.160497</td>\n",
       "    </tr>\n",
       "    <tr>\n",
       "      <th>2</th>\n",
       "      <td>M1E</td>\n",
       "      <td>Scarborough</td>\n",
       "      <td>Guildwood, Morningside, West Hill</td>\n",
       "      <td>43.763573</td>\n",
       "      <td>-79.188711</td>\n",
       "    </tr>\n",
       "    <tr>\n",
       "      <th>3</th>\n",
       "      <td>M1G</td>\n",
       "      <td>Scarborough</td>\n",
       "      <td>Woburn</td>\n",
       "      <td>43.770992</td>\n",
       "      <td>-79.216917</td>\n",
       "    </tr>\n",
       "    <tr>\n",
       "      <th>4</th>\n",
       "      <td>M1H</td>\n",
       "      <td>Scarborough</td>\n",
       "      <td>Cedarbrae</td>\n",
       "      <td>43.773136</td>\n",
       "      <td>-79.239476</td>\n",
       "    </tr>\n",
       "  </tbody>\n",
       "</table>\n",
       "</div>"
      ],
      "text/plain": [
       "  PostalCode      Borough                            Neighborhood   Latitude  \\\n",
       "0        M1B  Scarborough                          Malvern, Rouge  43.806686   \n",
       "1        M1C  Scarborough  Rouge Hill, Port Union, Highland Creek  43.784535   \n",
       "2        M1E  Scarborough       Guildwood, Morningside, West Hill  43.763573   \n",
       "3        M1G  Scarborough                                  Woburn  43.770992   \n",
       "4        M1H  Scarborough                               Cedarbrae  43.773136   \n",
       "\n",
       "   Longitude  \n",
       "0 -79.194353  \n",
       "1 -79.160497  \n",
       "2 -79.188711  \n",
       "3 -79.216917  \n",
       "4 -79.239476  "
      ]
     },
     "execution_count": 20,
     "metadata": {},
     "output_type": "execute_result"
    }
   ],
   "source": [
    "#Import the dataset created in Notebbok2\n",
    "toronto_geo = pd.read_csv('toronto_geo.csv')\n",
    "toronto_geo.head()"
   ]
  },
  {
   "cell_type": "markdown",
   "metadata": {},
   "source": [
    "**7. Explore and cluster the neighborhoods in Toronto. You can decide to work with only boroughs that contain the word Toronto and then replicate the same analysis we did to the New York City data.**"
   ]
  },
  {
   "cell_type": "code",
   "execution_count": 21,
   "metadata": {},
   "outputs": [
    {
     "data": {
      "text/html": [
       "<div>\n",
       "<style scoped>\n",
       "    .dataframe tbody tr th:only-of-type {\n",
       "        vertical-align: middle;\n",
       "    }\n",
       "\n",
       "    .dataframe tbody tr th {\n",
       "        vertical-align: top;\n",
       "    }\n",
       "\n",
       "    .dataframe thead th {\n",
       "        text-align: right;\n",
       "    }\n",
       "</style>\n",
       "<table border=\"1\" class=\"dataframe\">\n",
       "  <thead>\n",
       "    <tr style=\"text-align: right;\">\n",
       "      <th></th>\n",
       "      <th>PostalCode</th>\n",
       "      <th>Borough</th>\n",
       "      <th>Neighborhood</th>\n",
       "      <th>Latitude</th>\n",
       "      <th>Longitude</th>\n",
       "    </tr>\n",
       "  </thead>\n",
       "  <tbody>\n",
       "    <tr>\n",
       "      <th>0</th>\n",
       "      <td>M4E</td>\n",
       "      <td>East Toronto</td>\n",
       "      <td>The Beaches</td>\n",
       "      <td>43.676357</td>\n",
       "      <td>-79.293031</td>\n",
       "    </tr>\n",
       "    <tr>\n",
       "      <th>1</th>\n",
       "      <td>M4K</td>\n",
       "      <td>East Toronto</td>\n",
       "      <td>The Danforth West, Riverdale</td>\n",
       "      <td>43.679557</td>\n",
       "      <td>-79.352188</td>\n",
       "    </tr>\n",
       "    <tr>\n",
       "      <th>2</th>\n",
       "      <td>M4L</td>\n",
       "      <td>East Toronto</td>\n",
       "      <td>India Bazaar, The Beaches West</td>\n",
       "      <td>43.668999</td>\n",
       "      <td>-79.315572</td>\n",
       "    </tr>\n",
       "    <tr>\n",
       "      <th>3</th>\n",
       "      <td>M4M</td>\n",
       "      <td>East Toronto</td>\n",
       "      <td>Studio District</td>\n",
       "      <td>43.659526</td>\n",
       "      <td>-79.340923</td>\n",
       "    </tr>\n",
       "    <tr>\n",
       "      <th>4</th>\n",
       "      <td>M4N</td>\n",
       "      <td>Central Toronto</td>\n",
       "      <td>Lawrence Park</td>\n",
       "      <td>43.728020</td>\n",
       "      <td>-79.388790</td>\n",
       "    </tr>\n",
       "  </tbody>\n",
       "</table>\n",
       "</div>"
      ],
      "text/plain": [
       "  PostalCode          Borough                    Neighborhood   Latitude  \\\n",
       "0        M4E     East Toronto                     The Beaches  43.676357   \n",
       "1        M4K     East Toronto    The Danforth West, Riverdale  43.679557   \n",
       "2        M4L     East Toronto  India Bazaar, The Beaches West  43.668999   \n",
       "3        M4M     East Toronto                 Studio District  43.659526   \n",
       "4        M4N  Central Toronto                   Lawrence Park  43.728020   \n",
       "\n",
       "   Longitude  \n",
       "0 -79.293031  \n",
       "1 -79.352188  \n",
       "2 -79.315572  \n",
       "3 -79.340923  \n",
       "4 -79.388790  "
      ]
     },
     "execution_count": 21,
     "metadata": {},
     "output_type": "execute_result"
    }
   ],
   "source": [
    "toronto_geo = toronto_geo[toronto_geo['Borough'].str.contains(\"Toronto\")].reset_index(drop=True)\n",
    "toronto_geo.head()"
   ]
  },
  {
   "cell_type": "markdown",
   "metadata": {},
   "source": [
    "Making sure we got only the \"Toronto\" boroughs"
   ]
  },
  {
   "cell_type": "code",
   "execution_count": 22,
   "metadata": {},
   "outputs": [
    {
     "data": {
      "text/plain": [
       "Downtown Toronto    19\n",
       "Central Toronto      9\n",
       "West Toronto         6\n",
       "East Toronto         5\n",
       "Name: Borough, dtype: int64"
      ]
     },
     "execution_count": 22,
     "metadata": {},
     "output_type": "execute_result"
    }
   ],
   "source": [
    "toronto_geo['Borough'].value_counts()"
   ]
  },
  {
   "cell_type": "markdown",
   "metadata": {},
   "source": [
    "**7a) add enough Markdown cells to explain what you decided to do and to report any observations you make.**"
   ]
  },
  {
   "cell_type": "markdown",
   "metadata": {},
   "source": [
    "Hopefully done."
   ]
  },
  {
   "cell_type": "markdown",
   "metadata": {},
   "source": [
    "**7b) generate maps to visualize your neighborhoods and how they cluster together.**"
   ]
  },
  {
   "cell_type": "markdown",
   "metadata": {},
   "source": [
    "Creating map of Toronto with latitude and longitude values from first row of the dataset"
   ]
  },
  {
   "cell_type": "code",
   "execution_count": 23,
   "metadata": {},
   "outputs": [],
   "source": [
    "map_toronto = folium.Map(location=[toronto_geo[\"Latitude\"][0], toronto_geo[\"Longitude\"][0]], zoom_start=11)"
   ]
  },
  {
   "cell_type": "code",
   "execution_count": 24,
   "metadata": {},
   "outputs": [
    {
     "data": {
      "text/html": [
       "<div style=\"width:100%;\"><div style=\"position:relative;width:100%;height:0;padding-bottom:60%;\"><span style=\"color:#565656\">Make this Notebook Trusted to load map: File -> Trust Notebook</span><iframe src=\"about:blank\" style=\"position:absolute;width:100%;height:100%;left:0;top:0;border:none !important;\" data-html=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 onload=\"this.contentDocument.open();this.contentDocument.write(atob(this.getAttribute('data-html')));this.contentDocument.close();\" allowfullscreen webkitallowfullscreen mozallowfullscreen></iframe></div></div>"
      ],
      "text/plain": [
       "<folium.folium.Map at 0x7f906ce570b8>"
      ]
     },
     "execution_count": 24,
     "metadata": {},
     "output_type": "execute_result"
    }
   ],
   "source": [
    "map_toronto"
   ]
  },
  {
   "cell_type": "markdown",
   "metadata": {},
   "source": [
    "Now adding markers for particular neighborhoods"
   ]
  },
  {
   "cell_type": "code",
   "execution_count": 25,
   "metadata": {},
   "outputs": [
    {
     "data": {
      "text/html": [
       "<div style=\"width:100%;\"><div style=\"position:relative;width:100%;height:0;padding-bottom:60%;\"><span style=\"color:#565656\">Make this Notebook Trusted to load map: File -> Trust Notebook</span><iframe src=\"about:blank\" style=\"position:absolute;width:100%;height:100%;left:0;top:0;border:none !important;\" data-html=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 onload=\"this.contentDocument.open();this.contentDocument.write(atob(this.getAttribute('data-html')));this.contentDocument.close();\" allowfullscreen webkitallowfullscreen mozallowfullscreen></iframe></div></div>"
      ],
      "text/plain": [
       "<folium.folium.Map at 0x7f906ce570b8>"
      ]
     },
     "execution_count": 25,
     "metadata": {},
     "output_type": "execute_result"
    }
   ],
   "source": [
    "\n",
    "for lat, lng, borough, neighborhood in zip(toronto_geo['Latitude'], toronto_geo['Longitude'], toronto_geo['Borough'], toronto_geo['Neighborhood']):\n",
    "    label = '{}, {}'.format(neighborhood, borough)\n",
    "    label = folium.Popup(label, parse_html=True)\n",
    "    folium.Circle(\n",
    "        [lat, lng],\n",
    "        radius=4,\n",
    "        popup=label,\n",
    "        color='blue',\n",
    "        fill=True,\n",
    "        parse_html=False).add_to(map_toronto)  \n",
    "    \n",
    "map_toronto"
   ]
  },
  {
   "cell_type": "markdown",
   "metadata": {},
   "source": [
    "**8. Once you are happy with your analysis, submit a link to the new Notebook on your Github repository. (3 marks)**"
   ]
  },
  {
   "cell_type": "markdown",
   "metadata": {},
   "source": [
    "# END"
   ]
  }
 ],
 "metadata": {
  "kernelspec": {
   "display_name": "Python 3",
   "language": "python",
   "name": "python3"
  },
  "language_info": {
   "codemirror_mode": {
    "name": "ipython",
    "version": 3
   },
   "file_extension": ".py",
   "mimetype": "text/x-python",
   "name": "python",
   "nbconvert_exporter": "python",
   "pygments_lexer": "ipython3",
   "version": "3.7.3"
  }
 },
 "nbformat": 4,
 "nbformat_minor": 4
}
